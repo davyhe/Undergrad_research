{
 "cells": [
  {
   "cell_type": "code",
   "execution_count": 11,
   "id": "ec004c87",
   "metadata": {},
   "outputs": [
    {
     "name": "stdout",
     "output_type": "stream",
     "text": [
      "pip 20.0.2 from /usr/lib/python3/dist-packages/pip (python 3.8)\n"
     ]
    }
   ],
   "source": [
    "!pip --version"
   ]
  },
  {
   "cell_type": "code",
   "execution_count": 12,
   "id": "f4b2e4a9",
   "metadata": {
    "scrolled": true
   },
   "outputs": [
    {
     "name": "stdout",
     "output_type": "stream",
     "text": [
      "Requirement already satisfied: trivial-torch-tools in /home/dhe/.local/lib/python3.8/site-packages (0.4.1)\n",
      "Requirement already satisfied: torchvision>=0.9.0 in /home/dhe/.local/lib/python3.8/site-packages (from trivial-torch-tools) (0.12.0)\n",
      "Requirement already satisfied: simple-namespace>=1.0.0 in /home/dhe/.local/lib/python3.8/site-packages (from trivial-torch-tools) (1.0.0)\n",
      "Requirement already satisfied: pillow!=8.3.*,>=5.3.0 in /usr/lib/python3/dist-packages (from torchvision>=0.9.0->trivial-torch-tools) (7.0.0)\n",
      "Requirement already satisfied: typing-extensions in /home/dhe/.local/lib/python3.8/site-packages (from torchvision>=0.9.0->trivial-torch-tools) (4.2.0)\n",
      "Requirement already satisfied: numpy in /home/dhe/.local/lib/python3.8/site-packages (from torchvision>=0.9.0->trivial-torch-tools) (1.22.3)\n",
      "Requirement already satisfied: torch==1.11.0 in /home/dhe/.local/lib/python3.8/site-packages (from torchvision>=0.9.0->trivial-torch-tools) (1.11.0)\n",
      "Requirement already satisfied: requests in /usr/lib/python3/dist-packages (from torchvision>=0.9.0->trivial-torch-tools) (2.22.0)\n"
     ]
    }
   ],
   "source": [
    "!pip install trivial-torch-tools"
   ]
  },
  {
   "cell_type": "code",
   "execution_count": 13,
   "id": "8c078049",
   "metadata": {},
   "outputs": [
    {
     "data": {
      "text/plain": [
       "<torch._C.Generator at 0x7fd3a80fe630>"
      ]
     },
     "execution_count": 13,
     "metadata": {},
     "output_type": "execute_result"
    }
   ],
   "source": [
    "import torch.nn.functional as F\n",
    "import torch, torchvision\n",
    "from torch import nn, optim\n",
    "from torch.utils.data import DataLoader\n",
    "from torchvision import datasets, transforms, models\n",
    "from torchvision.transforms import ToTensor, Lambda\n",
    "import matplotlib.pyplot as plt\n",
    "\n",
    "n_epochs = 3\n",
    "batch_size_train = 64\n",
    "batch_size_test = 1000\n",
    "learning_rate = 0.01\n",
    "momentum = 0.5\n",
    "log_interval = 10\n",
    "\n",
    "random_seed = 1\n",
    "torch.backends.cudnn.enabled = False\n",
    "torch.manual_seed(random_seed)"
   ]
  },
  {
   "cell_type": "code",
   "execution_count": 14,
   "id": "1a2e73a9",
   "metadata": {
    "scrolled": true
   },
   "outputs": [],
   "source": [
    "train_loader = torch.utils.data.DataLoader(\n",
    "  torchvision.datasets.FashionMNIST('./files/', train=True, download=True,\n",
    "                             transform=torchvision.transforms.Compose([\n",
    "                               torchvision.transforms.ToTensor(),\n",
    "                               torchvision.transforms.Normalize(\n",
    "                                 (0.1307,), (0.3081,))\n",
    "                             ])),\n",
    "  batch_size=batch_size_train, shuffle=True)\n",
    "\n",
    "test_loader = torch.utils.data.DataLoader(\n",
    "  torchvision.datasets.FashionMNIST('./files/', train=False, download=True,\n",
    "                             transform=torchvision.transforms.Compose([\n",
    "                               torchvision.transforms.ToTensor(),\n",
    "                               torchvision.transforms.Normalize(\n",
    "                                 (0.1307,), (0.3081,))\n",
    "                             ])),\n",
    "  batch_size=batch_size_test, shuffle=True)"
   ]
  },
  {
   "cell_type": "code",
   "execution_count": 15,
   "id": "a35fb17a",
   "metadata": {},
   "outputs": [],
   "source": [
    "from trivial_torch_tools import Sequential\n",
    "from collections import OrderedDict\n",
    "globals()[\"default_device\"] = torch.device(\"cpu\")\n",
    "class Net(nn.Module):\n",
    "    def __init__(self):\n",
    "        super(Net, self).__init__()\n",
    "        layers = Sequential(input_shape = (1,28,28)) # given the input shape size\n",
    "        layers.add_module('conv1', nn.Conv2d(1, 10, kernel_size=5))\n",
    "        layers.add_module('conv1_pool', nn.MaxPool2d(2))\n",
    "        layers.add_module('relu', nn.ReLU())\n",
    "        layers.add_module('conv2', nn.Conv2d(10, 10, kernel_size=5))\n",
    "        layers.add_module('conv2_pool', nn.MaxPool2d(2))\n",
    "        layers.add_module('relu2', nn.ReLU())\n",
    "        layers.add_module(\"conv2_drop\", nn.Dropout2d())\n",
    "        layers.add_module('flatten', nn.Flatten(1)) \n",
    "        layers.add_module('fc1', nn.Linear(layers.output_size, 50))\n",
    "        layers.add_module('relu3', nn.ReLU())\n",
    "        layers.add_module('fc2', nn.Linear(layers.output_size, 10)) \n",
    "        layers.add_module('softmax', nn.LogSoftmax())\n",
    "        self.layers = layers\n",
    "\n",
    "    def forward(self, x):\n",
    "        return self.layers(x)"
   ]
  },
  {
   "cell_type": "code",
   "execution_count": 16,
   "id": "0e41d047",
   "metadata": {},
   "outputs": [],
   "source": [
    "\n",
    "network = Net()\n",
    "optimizer = optim.SGD(network.parameters(), lr=learning_rate,\n",
    "                      momentum=momentum)"
   ]
  },
  {
   "cell_type": "code",
   "execution_count": 17,
   "id": "d8d9d4c5",
   "metadata": {},
   "outputs": [],
   "source": [
    "train_losses = []\n",
    "train_counter = []\n",
    "test_losses = []\n",
    "test_counter = [i*len(train_loader.dataset) for i in range(n_epochs + 1)]"
   ]
  },
  {
   "cell_type": "code",
   "execution_count": 18,
   "id": "2e24895a",
   "metadata": {},
   "outputs": [],
   "source": [
    "def train(epoch):\n",
    "  network.train()\n",
    "  for batch_idx, (data, target) in enumerate(train_loader):\n",
    "    optimizer.zero_grad()\n",
    "    output = network(data)\n",
    "    loss = F.nll_loss(output, target)\n",
    "    loss.backward()\n",
    "    optimizer.step()\n",
    "    if batch_idx % log_interval == 0:\n",
    "      print('Train Epoch: {} [{}/{} ({:.0f}%)]\\tLoss: {:.6f}'.format(\n",
    "        epoch, batch_idx * len(data), len(train_loader.dataset),\n",
    "        100. * batch_idx / len(train_loader), loss.item()))\n",
    "      train_losses.append(loss.item())\n",
    "      train_counter.append(\n",
    "        (batch_idx*64) + ((epoch-1)*len(train_loader.dataset)))\n",
    "      torch.save(network.state_dict(), './files/model.pth')\n",
    "      torch.save(optimizer.state_dict(), './files/optimizer.pth')"
   ]
  },
  {
   "cell_type": "code",
   "execution_count": 19,
   "id": "de06a58a",
   "metadata": {},
   "outputs": [],
   "source": [
    "def test():\n",
    "  network.eval()\n",
    "  test_loss = 0\n",
    "  correct = 0\n",
    "  with torch.no_grad():\n",
    "    for data, target in test_loader:\n",
    "      output = network(data)\n",
    "      test_loss += F.nll_loss(output, target, size_average=False).item()\n",
    "      pred = output.data.max(1, keepdim=True)[1]\n",
    "      correct += pred.eq(target.data.view_as(pred)).sum()\n",
    "  test_loss /= len(test_loader.dataset)\n",
    "  test_losses.append(test_loss)\n",
    "  print('\\nTest set: Avg. loss: {:.4f}, Accuracy: {}/{} ({:.0f}%)\\n'.format(\n",
    "    test_loss, correct, len(test_loader.dataset),\n",
    "    100. * correct / len(test_loader.dataset)))"
   ]
  },
  {
   "cell_type": "code",
   "execution_count": null,
   "id": "869f02eb",
   "metadata": {},
   "outputs": [],
   "source": []
  },
  {
   "cell_type": "code",
   "execution_count": 20,
   "id": "620a2c74",
   "metadata": {},
   "outputs": [
    {
     "ename": "NameError",
     "evalue": "name 'functools' is not defined",
     "output_type": "error",
     "traceback": [
      "\u001b[0;31m---------------------------------------------------------------------------\u001b[0m",
      "\u001b[0;31mNameError\u001b[0m                                 Traceback (most recent call last)",
      "\u001b[1;32m/home/dhe/Desktop/Undergrad_research/updated_mnist.ipynb Cell 11'\u001b[0m in \u001b[0;36m<cell line: 1>\u001b[0;34m()\u001b[0m\n\u001b[0;32m----> <a href='vscode-notebook-cell:/home/dhe/Desktop/Undergrad_research/updated_mnist.ipynb#ch0000010?line=0'>1</a>\u001b[0m test()\n\u001b[1;32m      <a href='vscode-notebook-cell:/home/dhe/Desktop/Undergrad_research/updated_mnist.ipynb#ch0000010?line=1'>2</a>\u001b[0m \u001b[39mfor\u001b[39;00m epoch \u001b[39min\u001b[39;00m \u001b[39mrange\u001b[39m(\u001b[39m1\u001b[39m, n_epochs \u001b[39m+\u001b[39m \u001b[39m1\u001b[39m):\n\u001b[1;32m      <a href='vscode-notebook-cell:/home/dhe/Desktop/Undergrad_research/updated_mnist.ipynb#ch0000010?line=2'>3</a>\u001b[0m   train(epoch)\n",
      "\u001b[1;32m/home/dhe/Desktop/Undergrad_research/updated_mnist.ipynb Cell 9'\u001b[0m in \u001b[0;36mtest\u001b[0;34m()\u001b[0m\n\u001b[1;32m      <a href='vscode-notebook-cell:/home/dhe/Desktop/Undergrad_research/updated_mnist.ipynb#ch0000008?line=4'>5</a>\u001b[0m \u001b[39mwith\u001b[39;00m torch\u001b[39m.\u001b[39mno_grad():\n\u001b[1;32m      <a href='vscode-notebook-cell:/home/dhe/Desktop/Undergrad_research/updated_mnist.ipynb#ch0000008?line=5'>6</a>\u001b[0m   \u001b[39mfor\u001b[39;00m data, target \u001b[39min\u001b[39;00m test_loader:\n\u001b[0;32m----> <a href='vscode-notebook-cell:/home/dhe/Desktop/Undergrad_research/updated_mnist.ipynb#ch0000008?line=6'>7</a>\u001b[0m     output \u001b[39m=\u001b[39m network(data)\n\u001b[1;32m      <a href='vscode-notebook-cell:/home/dhe/Desktop/Undergrad_research/updated_mnist.ipynb#ch0000008?line=7'>8</a>\u001b[0m     test_loss \u001b[39m+\u001b[39m\u001b[39m=\u001b[39m F\u001b[39m.\u001b[39mnll_loss(output, target, size_average\u001b[39m=\u001b[39m\u001b[39mFalse\u001b[39;00m)\u001b[39m.\u001b[39mitem()\n\u001b[1;32m      <a href='vscode-notebook-cell:/home/dhe/Desktop/Undergrad_research/updated_mnist.ipynb#ch0000008?line=8'>9</a>\u001b[0m     pred \u001b[39m=\u001b[39m output\u001b[39m.\u001b[39mdata\u001b[39m.\u001b[39mmax(\u001b[39m1\u001b[39m, keepdim\u001b[39m=\u001b[39m\u001b[39mTrue\u001b[39;00m)[\u001b[39m1\u001b[39m]\n",
      "File \u001b[0;32m~/.local/lib/python3.8/site-packages/torch/nn/modules/module.py:1110\u001b[0m, in \u001b[0;36mModule._call_impl\u001b[0;34m(self, *input, **kwargs)\u001b[0m\n\u001b[1;32m   <a href='file:///home/dhe/.local/lib/python3.8/site-packages/torch/nn/modules/module.py?line=1105'>1106</a>\u001b[0m \u001b[39m# If we don't have any hooks, we want to skip the rest of the logic in\u001b[39;00m\n\u001b[1;32m   <a href='file:///home/dhe/.local/lib/python3.8/site-packages/torch/nn/modules/module.py?line=1106'>1107</a>\u001b[0m \u001b[39m# this function, and just call forward.\u001b[39;00m\n\u001b[1;32m   <a href='file:///home/dhe/.local/lib/python3.8/site-packages/torch/nn/modules/module.py?line=1107'>1108</a>\u001b[0m \u001b[39mif\u001b[39;00m \u001b[39mnot\u001b[39;00m (\u001b[39mself\u001b[39m\u001b[39m.\u001b[39m_backward_hooks \u001b[39mor\u001b[39;00m \u001b[39mself\u001b[39m\u001b[39m.\u001b[39m_forward_hooks \u001b[39mor\u001b[39;00m \u001b[39mself\u001b[39m\u001b[39m.\u001b[39m_forward_pre_hooks \u001b[39mor\u001b[39;00m _global_backward_hooks\n\u001b[1;32m   <a href='file:///home/dhe/.local/lib/python3.8/site-packages/torch/nn/modules/module.py?line=1108'>1109</a>\u001b[0m         \u001b[39mor\u001b[39;00m _global_forward_hooks \u001b[39mor\u001b[39;00m _global_forward_pre_hooks):\n\u001b[0;32m-> <a href='file:///home/dhe/.local/lib/python3.8/site-packages/torch/nn/modules/module.py?line=1109'>1110</a>\u001b[0m     \u001b[39mreturn\u001b[39;00m forward_call(\u001b[39m*\u001b[39;49m\u001b[39minput\u001b[39;49m, \u001b[39m*\u001b[39;49m\u001b[39m*\u001b[39;49mkwargs)\n\u001b[1;32m   <a href='file:///home/dhe/.local/lib/python3.8/site-packages/torch/nn/modules/module.py?line=1110'>1111</a>\u001b[0m \u001b[39m# Do not call functions when jit is used\u001b[39;00m\n\u001b[1;32m   <a href='file:///home/dhe/.local/lib/python3.8/site-packages/torch/nn/modules/module.py?line=1111'>1112</a>\u001b[0m full_backward_hooks, non_full_backward_hooks \u001b[39m=\u001b[39m [], []\n",
      "\u001b[1;32m/home/dhe/Desktop/Undergrad_research/updated_mnist.ipynb Cell 5'\u001b[0m in \u001b[0;36mNet.forward\u001b[0;34m(self, x)\u001b[0m\n\u001b[1;32m     <a href='vscode-notebook-cell:/home/dhe/Desktop/Undergrad_research/updated_mnist.ipynb#ch0000004?line=21'>22</a>\u001b[0m \u001b[39mdef\u001b[39;00m \u001b[39mforward\u001b[39m(\u001b[39mself\u001b[39m, x):\n\u001b[0;32m---> <a href='vscode-notebook-cell:/home/dhe/Desktop/Undergrad_research/updated_mnist.ipynb#ch0000004?line=22'>23</a>\u001b[0m     \u001b[39mreturn\u001b[39;00m \u001b[39mself\u001b[39;49m\u001b[39m.\u001b[39;49mlayers(x)\n",
      "File \u001b[0;32m~/.local/lib/python3.8/site-packages/torch/nn/modules/module.py:1110\u001b[0m, in \u001b[0;36mModule._call_impl\u001b[0;34m(self, *input, **kwargs)\u001b[0m\n\u001b[1;32m   <a href='file:///home/dhe/.local/lib/python3.8/site-packages/torch/nn/modules/module.py?line=1105'>1106</a>\u001b[0m \u001b[39m# If we don't have any hooks, we want to skip the rest of the logic in\u001b[39;00m\n\u001b[1;32m   <a href='file:///home/dhe/.local/lib/python3.8/site-packages/torch/nn/modules/module.py?line=1106'>1107</a>\u001b[0m \u001b[39m# this function, and just call forward.\u001b[39;00m\n\u001b[1;32m   <a href='file:///home/dhe/.local/lib/python3.8/site-packages/torch/nn/modules/module.py?line=1107'>1108</a>\u001b[0m \u001b[39mif\u001b[39;00m \u001b[39mnot\u001b[39;00m (\u001b[39mself\u001b[39m\u001b[39m.\u001b[39m_backward_hooks \u001b[39mor\u001b[39;00m \u001b[39mself\u001b[39m\u001b[39m.\u001b[39m_forward_hooks \u001b[39mor\u001b[39;00m \u001b[39mself\u001b[39m\u001b[39m.\u001b[39m_forward_pre_hooks \u001b[39mor\u001b[39;00m _global_backward_hooks\n\u001b[1;32m   <a href='file:///home/dhe/.local/lib/python3.8/site-packages/torch/nn/modules/module.py?line=1108'>1109</a>\u001b[0m         \u001b[39mor\u001b[39;00m _global_forward_hooks \u001b[39mor\u001b[39;00m _global_forward_pre_hooks):\n\u001b[0;32m-> <a href='file:///home/dhe/.local/lib/python3.8/site-packages/torch/nn/modules/module.py?line=1109'>1110</a>\u001b[0m     \u001b[39mreturn\u001b[39;00m forward_call(\u001b[39m*\u001b[39;49m\u001b[39minput\u001b[39;49m, \u001b[39m*\u001b[39;49m\u001b[39m*\u001b[39;49mkwargs)\n\u001b[1;32m   <a href='file:///home/dhe/.local/lib/python3.8/site-packages/torch/nn/modules/module.py?line=1110'>1111</a>\u001b[0m \u001b[39m# Do not call functions when jit is used\u001b[39;00m\n\u001b[1;32m   <a href='file:///home/dhe/.local/lib/python3.8/site-packages/torch/nn/modules/module.py?line=1111'>1112</a>\u001b[0m full_backward_hooks, non_full_backward_hooks \u001b[39m=\u001b[39m [], []\n",
      "File \u001b[0;32m~/.local/lib/python3.8/site-packages/trivial_torch_tools/model.py:42\u001b[0m, in \u001b[0;36minit.<locals>.forward_sequential_method.<locals>.wrapper.<locals>.forward\u001b[0;34m(neuron_activations)\u001b[0m\n\u001b[1;32m     <a href='file:///home/dhe/.local/lib/python3.8/site-packages/trivial_torch_tools/model.py?line=40'>41</a>\u001b[0m \u001b[39mdef\u001b[39;00m \u001b[39mforward\u001b[39m(neuron_activations):\n\u001b[0;32m---> <a href='file:///home/dhe/.local/lib/python3.8/site-packages/trivial_torch_tools/model.py?line=41'>42</a>\u001b[0m     \u001b[39mreturn\u001b[39;00m functools\u001b[39m.\u001b[39mreduce(\n\u001b[1;32m     <a href='file:///home/dhe/.local/lib/python3.8/site-packages/trivial_torch_tools/model.py?line=42'>43</a>\u001b[0m         (\u001b[39mlambda\u001b[39;00m x, each_layer: each_layer\u001b[39m.\u001b[39mforward(x)),\n\u001b[1;32m     <a href='file:///home/dhe/.local/lib/python3.8/site-packages/trivial_torch_tools/model.py?line=43'>44</a>\u001b[0m         \u001b[39mself\u001b[39m\u001b[39m.\u001b[39mchildren(),\n\u001b[1;32m     <a href='file:///home/dhe/.local/lib/python3.8/site-packages/trivial_torch_tools/model.py?line=44'>45</a>\u001b[0m         neuron_activations\n\u001b[1;32m     <a href='file:///home/dhe/.local/lib/python3.8/site-packages/trivial_torch_tools/model.py?line=45'>46</a>\u001b[0m     )\n",
      "\u001b[0;31mNameError\u001b[0m: name 'functools' is not defined"
     ]
    }
   ],
   "source": [
    "test()\n",
    "for epoch in range(1, n_epochs + 1):\n",
    "  train(epoch)\n",
    "  test()"
   ]
  }
 ],
 "metadata": {
  "kernelspec": {
   "display_name": "Python 3 (ipykernel)",
   "language": "python",
   "name": "python3"
  },
  "language_info": {
   "codemirror_mode": {
    "name": "ipython",
    "version": 3
   },
   "file_extension": ".py",
   "mimetype": "text/x-python",
   "name": "python",
   "nbconvert_exporter": "python",
   "pygments_lexer": "ipython3",
   "version": "3.8.10"
  }
 },
 "nbformat": 4,
 "nbformat_minor": 5
}
